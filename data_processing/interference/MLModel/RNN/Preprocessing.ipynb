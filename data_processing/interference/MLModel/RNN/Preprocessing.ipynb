{
 "cells": [
  {
   "cell_type": "code",
   "execution_count": 1,
   "metadata": {
    "collapsed": true
   },
   "outputs": [],
   "source": [
    "import datetime\n",
    "# import Recover\n",
    "# import filter_data\n",
    "import numpy as np"
   ]
  },
  {
   "cell_type": "markdown",
   "metadata": {},
   "source": [
    "### Data Recovery  {1, 2, 3, 4, 5, 6, 7, 8, 9, 12, 13} 11"
   ]
  },
  {
   "cell_type": "code",
   "execution_count": 2,
   "metadata": {
    "collapsed": true
   },
   "outputs": [],
   "source": [
    "node = [1,2,3,4,5,6,7,8,9,12,13]\n",
    "start = datetime.datetime.strptime(\"2018-08-27\", \"%Y-%m-%d\")\n",
    "end = datetime.datetime.strptime(\"2018-10-03\", \"%Y-%m-%d\")\n",
    "date_generated = [start + datetime.timedelta(days=x) for x in range(0, (end-start).days)]\n",
    "# for date in date_generated:\n",
    "#      Recover.re(str(date)[0:10])"
   ]
  },
  {
   "cell_type": "markdown",
   "metadata": {},
   "source": [
    "### Basic Noise Removal"
   ]
  },
  {
   "cell_type": "code",
   "execution_count": 56,
   "metadata": {
    "collapsed": true
   },
   "outputs": [],
   "source": [
    "for date in date_generated:\n",
    "    filter_data.main(str(date)[0:10])"
   ]
  },
  {
   "cell_type": "code",
   "execution_count": 125,
   "metadata": {
    "collapsed": true
   },
   "outputs": [],
   "source": [
    "def data_single_day(date, node):\n",
    "    path = '/Users/zhengkaizhang/Desktop/data_processing/graph/' + date + '/'\n",
    "    population = []\n",
    "    for n in node:\n",
    "        single = []\n",
    "        f_path = path + 'n' + str(n) + '_' + date + '_c.txt'\n",
    "        with open(f_path) as f:\n",
    "            count = 0\n",
    "            pop = 0\n",
    "            for line in f.readlines():\n",
    "                arr = line.split(' ')\n",
    "                if arr[0] == '*':\n",
    "                    count += 1\n",
    "                    if count < 360:\n",
    "                        continue\n",
    "                    else:\n",
    "                        single.append(int(pop / count))\n",
    "                        count = 0\n",
    "                        pop = 0\n",
    "                else:\n",
    "                    pop += 1\n",
    "\n",
    "            single.append(pop / count)\n",
    "        population.append(np.array(single))\n",
    "\n",
    "    np.save('./data/' + date + '.npy', population)\n",
    "\n",
    "def all_data(date_list, node):\n",
    "    for date in date_list:\n",
    "        print(str(date)[:10])\n",
    "        data_single_day(str(date)[:10], node)\n",
    "    print(\"Finish!\")\n",
    "    \n",
    "def concatenate(date_list, node):\n",
    "    data = []\n",
    "    for date in date_list:\n",
    "        if str(date)[:10] == \"2018-09-28\":\n",
    "            continue\n",
    "        if date.weekday() >= 5:\n",
    "            continue\n",
    "        tmp = np.load(\"./data/\" + str(date)[:10] + '.npy')\n",
    "        data.append(tmp)\n",
    "    return np.array(data)"
   ]
  },
  {
   "cell_type": "markdown",
   "metadata": {},
   "source": [
    "### generate data"
   ]
  },
  {
   "cell_type": "code",
   "execution_count": 128,
   "metadata": {
    "collapsed": true
   },
   "outputs": [],
   "source": [
    "all_data(date_list=date_generated, node=node)"
   ]
  }
 ],
 "metadata": {
  "kernelspec": {
   "display_name": "Python 3",
   "language": "python",
   "name": "python3"
  },
  "language_info": {
   "codemirror_mode": {
    "name": "ipython",
    "version": 3
   },
   "file_extension": ".py",
   "mimetype": "text/x-python",
   "name": "python",
   "nbconvert_exporter": "python",
   "pygments_lexer": "ipython3",
   "version": "3.5.4"
  }
 },
 "nbformat": 4,
 "nbformat_minor": 2
}
