{
 "cells": [
  {
   "cell_type": "code",
   "execution_count": 1,
   "metadata": {
    "collapsed": true
   },
   "outputs": [],
   "source": [
    "import datetime\n",
    "import Recover\n",
    "import filter_data\n",
    "import numpy as np"
   ]
  },
  {
   "cell_type": "markdown",
   "metadata": {},
   "source": [
    "### Data Recovery  {1, 2, 3, 4, 5, 6, 7, 8, 9, 12, 13} 11"
   ]
  },
  {
   "cell_type": "code",
   "execution_count": 2,
   "metadata": {
    "collapsed": true
   },
   "outputs": [],
   "source": [
    "node = [1,2,3,4,5,6,7,8,9,12,13]\n",
    "start = datetime.datetime.strptime(\"2018-08-27\", \"%Y-%m-%d\")\n",
    "end = datetime.datetime.strptime(\"2018-10-12\", \"%Y-%m-%d\")\n",
    "date_generated = [start + datetime.timedelta(days=x) for x in range(0, (end-start).days)]\n",
    "# for date in date_generated:\n",
    "#      Recover.re(str(date)[0:10])"
   ]
  },
  {
   "cell_type": "markdown",
   "metadata": {},
   "source": [
    "### Basic Noise Removal"
   ]
  },
  {
   "cell_type": "code",
   "execution_count": 8,
   "metadata": {},
   "outputs": [
    {
     "name": "stdout",
     "output_type": "stream",
     "text": [
      "/Users/zhengkaizhang/Desktop/data_processing/data_collection/node04/data/n4_2018-09-07_r.txt\n",
      "/Users/zhengkaizhang/Desktop/data_processing/data_collection/node07/data/n7_2018-09-12_r.txt\n",
      "/Users/zhengkaizhang/Desktop/data_processing/data_collection/node06/data/n6_2018-09-18_r.txt\n",
      "/Users/zhengkaizhang/Desktop/data_processing/data_collection/node07/data/n7_2018-09-26_r.txt\n",
      "/Users/zhengkaizhang/Desktop/data_processing/data_collection/node04/data/n4_2018-10-01_r.txt\n",
      "/Users/zhengkaizhang/Desktop/data_processing/data_collection/node08/data/n8_2018-10-02_r.txt\n",
      "/Users/zhengkaizhang/Desktop/data_processing/data_collection/node08/data/n8_2018-10-03_r.txt\n"
     ]
    },
    {
     "ename": "IOError",
     "evalue": "[Errno 2] No such file or directory: '/Users/zhengkaizhang/Desktop/data_processing/data_collection/node02/data/n2_2018-10-13_0.txt'",
     "output_type": "error",
     "traceback": [
      "\u001b[0;31m---------------------------------------------------------------------------\u001b[0m",
      "\u001b[0;31mIOError\u001b[0m                                   Traceback (most recent call last)",
      "\u001b[0;32m<ipython-input-8-8072bd0e412a>\u001b[0m in \u001b[0;36m<module>\u001b[0;34m()\u001b[0m\n\u001b[1;32m      2\u001b[0m     \u001b[0;32mif\u001b[0m \u001b[0mstr\u001b[0m\u001b[0;34m(\u001b[0m\u001b[0mdate\u001b[0m\u001b[0;34m)\u001b[0m\u001b[0;34m[\u001b[0m\u001b[0;36m0\u001b[0m\u001b[0;34m:\u001b[0m\u001b[0;36m10\u001b[0m\u001b[0;34m]\u001b[0m \u001b[0;34m==\u001b[0m \u001b[0;34m'2018-10-04'\u001b[0m\u001b[0;34m:\u001b[0m\u001b[0;34m\u001b[0m\u001b[0m\n\u001b[1;32m      3\u001b[0m         \u001b[0;32mcontinue\u001b[0m\u001b[0;34m\u001b[0m\u001b[0m\n\u001b[0;32m----> 4\u001b[0;31m     \u001b[0mfilter_data\u001b[0m\u001b[0;34m.\u001b[0m\u001b[0mmain\u001b[0m\u001b[0;34m(\u001b[0m\u001b[0mstr\u001b[0m\u001b[0;34m(\u001b[0m\u001b[0mdate\u001b[0m\u001b[0;34m)\u001b[0m\u001b[0;34m[\u001b[0m\u001b[0;36m0\u001b[0m\u001b[0;34m:\u001b[0m\u001b[0;36m10\u001b[0m\u001b[0;34m]\u001b[0m\u001b[0;34m)\u001b[0m\u001b[0;34m\u001b[0m\u001b[0m\n\u001b[0m",
      "\u001b[0;32m/Users/zhengkaizhang/Desktop/Summer Project/MLModel/RNN/filter_data.pyc\u001b[0m in \u001b[0;36mmain\u001b[0;34m(date)\u001b[0m\n\u001b[1;32m     47\u001b[0m \u001b[0;34m\u001b[0m\u001b[0m\n\u001b[1;32m     48\u001b[0m \u001b[0;32mdef\u001b[0m \u001b[0mmain\u001b[0m\u001b[0;34m(\u001b[0m\u001b[0mdate\u001b[0m\u001b[0;34m)\u001b[0m\u001b[0;34m:\u001b[0m\u001b[0;34m\u001b[0m\u001b[0m\n\u001b[0;32m---> 49\u001b[0;31m     \u001b[0mdata_filter\u001b[0m\u001b[0;34m(\u001b[0m\u001b[0mnode\u001b[0m\u001b[0;34m,\u001b[0m \u001b[0mdate\u001b[0m\u001b[0;34m)\u001b[0m\u001b[0;34m\u001b[0m\u001b[0m\n\u001b[0m\u001b[1;32m     50\u001b[0m \u001b[0;34m\u001b[0m\u001b[0m\n\u001b[1;32m     51\u001b[0m \u001b[0;32mif\u001b[0m \u001b[0m__name__\u001b[0m \u001b[0;34m==\u001b[0m \u001b[0;34m'__main__'\u001b[0m\u001b[0;34m:\u001b[0m\u001b[0;34m\u001b[0m\u001b[0m\n",
      "\u001b[0;32m/Users/zhengkaizhang/Desktop/Summer Project/MLModel/RNN/filter_data.pyc\u001b[0m in \u001b[0;36mdata_filter\u001b[0;34m(node, date)\u001b[0m\n\u001b[1;32m     44\u001b[0m \u001b[0;32mdef\u001b[0m \u001b[0mdata_filter\u001b[0m\u001b[0;34m(\u001b[0m\u001b[0mnode\u001b[0m\u001b[0;34m,\u001b[0m \u001b[0mdate\u001b[0m\u001b[0;34m)\u001b[0m\u001b[0;34m:\u001b[0m\u001b[0;34m\u001b[0m\u001b[0m\n\u001b[1;32m     45\u001b[0m     \u001b[0;32mfor\u001b[0m \u001b[0mn\u001b[0m \u001b[0;32min\u001b[0m \u001b[0mnode\u001b[0m\u001b[0;34m:\u001b[0m\u001b[0;34m\u001b[0m\u001b[0m\n\u001b[0;32m---> 46\u001b[0;31m         \u001b[0mdata_filter_helper\u001b[0m\u001b[0;34m(\u001b[0m\u001b[0mn\u001b[0m\u001b[0;34m,\u001b[0m \u001b[0mdate\u001b[0m\u001b[0;34m)\u001b[0m\u001b[0;34m\u001b[0m\u001b[0m\n\u001b[0m\u001b[1;32m     47\u001b[0m \u001b[0;34m\u001b[0m\u001b[0m\n\u001b[1;32m     48\u001b[0m \u001b[0;32mdef\u001b[0m \u001b[0mmain\u001b[0m\u001b[0;34m(\u001b[0m\u001b[0mdate\u001b[0m\u001b[0;34m)\u001b[0m\u001b[0;34m:\u001b[0m\u001b[0;34m\u001b[0m\u001b[0m\n",
      "\u001b[0;32m/Users/zhengkaizhang/Desktop/Summer Project/MLModel/RNN/filter_data.pyc\u001b[0m in \u001b[0;36mdata_filter_helper\u001b[0;34m(n, date)\u001b[0m\n\u001b[1;32m     38\u001b[0m         \u001b[0;32mprint\u001b[0m\u001b[0;34m(\u001b[0m\u001b[0mfile_name\u001b[0m\u001b[0;34m)\u001b[0m\u001b[0;34m\u001b[0m\u001b[0m\n\u001b[1;32m     39\u001b[0m \u001b[0;34m\u001b[0m\u001b[0m\n\u001b[0;32m---> 40\u001b[0;31m     \u001b[0mdevice_dict\u001b[0m \u001b[0;34m=\u001b[0m \u001b[0mget_device_dict\u001b[0m\u001b[0;34m(\u001b[0m\u001b[0mfile_name\u001b[0m\u001b[0;34m)\u001b[0m\u001b[0;34m\u001b[0m\u001b[0m\n\u001b[0m\u001b[1;32m     41\u001b[0m     \u001b[0mstatic_device\u001b[0m \u001b[0;34m=\u001b[0m \u001b[0mget_static_set\u001b[0m\u001b[0;34m(\u001b[0m\u001b[0mdevice_dict\u001b[0m\u001b[0;34m)\u001b[0m\u001b[0;34m\u001b[0m\u001b[0m\n\u001b[1;32m     42\u001b[0m     \u001b[0mwrite_clean_device\u001b[0m\u001b[0;34m(\u001b[0m\u001b[0mfile_name\u001b[0m\u001b[0;34m,\u001b[0m \u001b[0mstatic_device\u001b[0m\u001b[0;34m,\u001b[0m \u001b[0mn\u001b[0m\u001b[0;34m,\u001b[0m \u001b[0mdate\u001b[0m\u001b[0;34m)\u001b[0m\u001b[0;34m\u001b[0m\u001b[0m\n",
      "\u001b[0;32m/Users/zhengkaizhang/Desktop/Summer Project/MLModel/RNN/get_device_dict.pyc\u001b[0m in \u001b[0;36mget_device_dict\u001b[0;34m(file_name)\u001b[0m\n\u001b[1;32m      8\u001b[0m     \"\"\"\n\u001b[1;32m      9\u001b[0m     \u001b[0mdevice_dict\u001b[0m \u001b[0;34m=\u001b[0m \u001b[0;34m{\u001b[0m\u001b[0;34m}\u001b[0m\u001b[0;34m\u001b[0m\u001b[0m\n\u001b[0;32m---> 10\u001b[0;31m     \u001b[0;32mwith\u001b[0m \u001b[0mopen\u001b[0m\u001b[0;34m(\u001b[0m\u001b[0mfile_name\u001b[0m\u001b[0;34m)\u001b[0m \u001b[0;32mas\u001b[0m \u001b[0mf\u001b[0m\u001b[0;34m:\u001b[0m\u001b[0;34m\u001b[0m\u001b[0m\n\u001b[0m\u001b[1;32m     11\u001b[0m         \u001b[0;32mfor\u001b[0m \u001b[0mline\u001b[0m \u001b[0;32min\u001b[0m \u001b[0mf\u001b[0m\u001b[0;34m.\u001b[0m\u001b[0mreadlines\u001b[0m\u001b[0;34m(\u001b[0m\u001b[0;34m)\u001b[0m\u001b[0;34m:\u001b[0m\u001b[0;34m\u001b[0m\u001b[0m\n\u001b[1;32m     12\u001b[0m             \u001b[0mlist\u001b[0m \u001b[0;34m=\u001b[0m \u001b[0mline\u001b[0m\u001b[0;34m.\u001b[0m\u001b[0msplit\u001b[0m\u001b[0;34m(\u001b[0m\u001b[0;34m\" \"\u001b[0m\u001b[0;34m)\u001b[0m\u001b[0;34m\u001b[0m\u001b[0m\n",
      "\u001b[0;31mIOError\u001b[0m: [Errno 2] No such file or directory: '/Users/zhengkaizhang/Desktop/data_processing/data_collection/node02/data/n2_2018-10-13_0.txt'"
     ]
    }
   ],
   "source": [
    "for date in date_generated:\n",
    "    if str(date)[0:10] == '2018-10-04':\n",
    "        continue\n",
    "    filter_data.main(str(date)[0:10])"
   ]
  },
  {
   "cell_type": "code",
   "execution_count": 9,
   "metadata": {
    "collapsed": true
   },
   "outputs": [],
   "source": [
    "def data_single_day(date, node, time):\n",
    "    path = '/Users/zhengkaizhang/Desktop/data_processing/graph/' + date + '/'\n",
    "    population = []\n",
    "    for n in node:\n",
    "        single = []\n",
    "        f_path = path + 'n' + str(n) + '_' + date + '_c.txt'\n",
    "        with open(f_path) as f:\n",
    "            count = 0\n",
    "            pop = 0\n",
    "            result = []\n",
    "            for line in f.readlines():\n",
    "                arr = line.split(' ')\n",
    "                if arr[0] == '*':\n",
    "                    count += 1\n",
    "                    result.append(pop)\n",
    "                    if count < time:\n",
    "                        pop = 0\n",
    "                        continue\n",
    "                    else:\n",
    "                        single.append(np.array(result))\n",
    "                        count = 0\n",
    "                        result = []\n",
    "                    pop = 0\n",
    "                else:\n",
    "                    pop += 1\n",
    "\n",
    "#             single.append(np.array(result))\n",
    "\n",
    "        population.append(np.array(single))\n",
    "    np.save('./data/' + date + '.npy', population)\n",
    "\n",
    "def all_data(date_list, node, time):\n",
    "    for date in date_list:\n",
    "        print(str(date)[:10])\n",
    "        data_single_day(str(date)[:10], node, time)\n",
    "    print(\"Finish!\")\n",
    "    \n",
    "def concatenate(date_list, node):\n",
    "    data = []\n",
    "    for date in date_list:\n",
    "        if str(date)[:10] == \"2018-09-28\":\n",
    "            continue\n",
    "        if date.weekday() >= 5:\n",
    "            continue\n",
    "        tmp = np.load(\"./data/\" + str(date)[:10] + '.npy')\n",
    "        data.append(tmp.reshape(24, len(node)))\n",
    "    return np.array(data)\n",
    "\n",
    "def features(date_list, node):\n",
    "    data = []\n",
    "    for date in date_list:\n",
    "        if str(date)[:10] == \"2018-09-28\" or str(date)[:10] == \"2018-10-04\":\n",
    "            continue\n",
    "        if date.weekday() >= 5:\n",
    "            continue\n",
    "        tmp = np.load(\"./data/\" + str(date)[:10] + '.npy')\n",
    "        if tmp.shape != (11, 286, 30):\n",
    "            print(\"Dirty\" + str(date)[:10])\n",
    "            continue\n",
    "        print(str(date)[:10])\n",
    "        shape = tmp.shape\n",
    "#         mean = np.mean(tmp, axis=2).reshape(shape[1], 11)\n",
    "#         median = np.median(tmp, axis=2).reshape(shape[1], 11)\n",
    "#         max = np.max(tmp, axis=2).reshape(shape[1], 11)\n",
    "#         min = np.min(tmp, axis=2).reshape(shape[1], 11)\n",
    "#         ans = np.hstack((mean, median, max, min))\n",
    "#         np.save('./data/m4/' + str(date)[:10] + '_4.npy', ans)"
   ]
  },
  {
   "cell_type": "markdown",
   "metadata": {},
   "source": [
    "### generate data"
   ]
  },
  {
   "cell_type": "code",
   "execution_count": 19,
   "metadata": {},
   "outputs": [
    {
     "name": "stdout",
     "output_type": "stream",
     "text": [
      "2018-10-12\n",
      "Finish!\n"
     ]
    }
   ],
   "source": [
    "all_data(date_list=date_generated, node=node, time=30)"
   ]
  },
  {
   "cell_type": "code",
   "execution_count": 10,
   "metadata": {},
   "outputs": [
    {
     "name": "stdout",
     "output_type": "stream",
     "text": [
      "2018-08-27\n",
      "2018-08-28\n",
      "2018-08-29\n",
      "2018-08-30\n",
      "2018-08-31\n",
      "2018-09-03\n",
      "2018-09-04\n",
      "2018-09-05\n",
      "2018-09-06\n",
      "2018-09-07\n",
      "2018-09-10\n",
      "2018-09-11\n",
      "Dirty2018-09-12\n",
      "2018-09-13\n",
      "2018-09-14\n",
      "2018-09-17\n",
      "2018-09-18\n",
      "2018-09-19\n",
      "2018-09-20\n",
      "2018-09-21\n",
      "2018-09-24\n",
      "2018-09-25\n",
      "2018-09-26\n",
      "2018-09-27\n",
      "2018-10-01\n",
      "2018-10-02\n",
      "Dirty2018-10-03\n",
      "Dirty2018-10-05\n",
      "2018-10-08\n",
      "Dirty2018-10-09\n",
      "Dirty2018-10-10\n",
      "2018-10-11\n"
     ]
    }
   ],
   "source": [
    "features(date_list=date_generated, node=node)"
   ]
  },
  {
   "cell_type": "code",
   "execution_count": 16,
   "metadata": {
    "collapsed": true
   },
   "outputs": [],
   "source": [
    "tmp = np.load(\"./data/\" + \"2018-10-10\" + '.npy')"
   ]
  }
 ],
 "metadata": {
  "kernelspec": {
   "display_name": "Python 3",
   "language": "python",
   "name": "python3"
  },
  "language_info": {
   "codemirror_mode": {
    "name": "ipython",
    "version": 3
   },
   "file_extension": ".py",
   "mimetype": "text/x-python",
   "name": "python",
   "nbconvert_exporter": "python",
   "pygments_lexer": "ipython3",
   "version": "3.5.4"
  }
 },
 "nbformat": 4,
 "nbformat_minor": 2
}
