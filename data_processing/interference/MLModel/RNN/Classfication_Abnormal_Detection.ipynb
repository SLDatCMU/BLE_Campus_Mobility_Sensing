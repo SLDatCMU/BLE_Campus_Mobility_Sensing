{
 "cells": [
  {
   "cell_type": "code",
   "execution_count": 1,
   "metadata": {
    "collapsed": true
   },
   "outputs": [],
   "source": [
    "import tensorflow as tf\n",
    "import numpy as np\n",
    "import datetime\n",
    "from sklearn.model_selection import train_test_split"
   ]
  },
  {
   "cell_type": "code",
   "execution_count": 2,
   "metadata": {
    "collapsed": true
   },
   "outputs": [],
   "source": [
    "node = [1,2,3,4,5,6,7,8,9,12,13]\n",
    "start = datetime.datetime.strptime(\"2018-08-27\", \"%Y-%m-%d\")\n",
    "end = datetime.datetime.strptime(\"2018-9-27\", \"%Y-%m-%d\")\n",
    "date = [start + datetime.timedelta(days=x) for x in range(0, (end-start).days)]"
   ]
  },
  {
   "cell_type": "code",
   "execution_count": 3,
   "metadata": {
    "collapsed": true
   },
   "outputs": [],
   "source": [
    "def combine(data, slots=6):\n",
    "    result = []\n",
    "    for arr in data:\n",
    "        result.append(calculate(arr, slots))\n",
    "\n",
    "    return np.array(result)\n",
    "\n",
    "def calculate(arr, slots):\n",
    "    length = arr.shape[0]\n",
    "    result = []\n",
    "    for i in range(0, length, slots):\n",
    "        tmp = arr[i:i + 6]\n",
    "        tmp_mean = np.mean(tmp[:, 0:11], axis=0)\n",
    "        tmp_median = np.median(tmp[:, 11:22], axis=0)\n",
    "        tmp_max = np.max(tmp[:, 22:33], axis=0)\n",
    "        tmp_min = np.min(tmp[:, 33:44], axis=0)\n",
    "        tmp = ans = np.hstack((tmp_mean, tmp_median, tmp_max, tmp_min))\n",
    "        result.append(tmp)\n",
    "\n",
    "    return np.array(result)"
   ]
  },
  {
   "cell_type": "code",
   "execution_count": 4,
   "metadata": {
    "collapsed": true
   },
   "outputs": [],
   "source": [
    "def concatenate(date_list, node):\n",
    "    data = []\n",
    "    for date in date_list:\n",
    "        if date.weekday() >= 5:\n",
    "            continue\n",
    "        tmp = np.load(\"./data/m4/\" + str(date)[:10] + '_4.npy')\n",
    "        if tmp.shape[0] < 286:\n",
    "            continue\n",
    "        data.append(tmp)\n",
    "    return np.array(data)\n",
    "\n",
    "class Data:\n",
    "\n",
    "    def __init__(self, time, batch_size = 32):\n",
    "        self.odata = concatenate(date_list=date, node=node)\n",
    "        self.data = None\n",
    "        self.data_init(miniute=5, time=10)\n",
    "        self.data = combine(self.data)\n",
    "\n",
    "        self.length = len(self.data)\n",
    "\n",
    "        self.train_len = int(self.length * 0.8)\n",
    "        self.val_len = int(self.length - self.train_len)\n",
    "\n",
    "        self.index = None\n",
    "        self.train_index = None\n",
    "        self.train_pos = 0\n",
    "        self.val_index = None\n",
    "        self.val_pos = 0\n",
    "        self.batch_size = batch_size\n",
    "\n",
    "    def data_init(self, miniute, time):\n",
    "        data = self.odata\n",
    "        result = []\n",
    "        start = int(9 * 60 / miniute)\n",
    "        for i in range(start, 286 - 42, int(time / miniute)):\n",
    "            result.append(data[:, i:i + 42, :])\n",
    "        self.data =  np.array(result).reshape(-1, 42, 44)\n",
    "            \n",
    "    def reset_index(self):\n",
    "        self.index = np.arange(self.length)\n",
    "        \n",
    "    def shuffle_index(self):\n",
    "        self.train_pos = 0\n",
    "        self.val_pos = 0\n",
    "        np.random.shuffle(self.index)\n",
    "        self.train_index = self.index[:self.train_len]\n",
    "        self.val_index = self.index[self.train_len:]\n",
    "\n",
    "    def get_train(self):\n",
    "        train = self.data[self.train_index[self.train_pos:  self.train_pos + self.batch_size]][:, 0:-1]\n",
    "        label = self.data[self.train_index[self.train_pos: self.train_pos + self.batch_size]][:, 1:, 0:11]\n",
    "        self.train_pos += self.batch_size\n",
    "        \n",
    "        return train, abnormal_detection(label)\n",
    "\n",
    "    def get_val(self):\n",
    "        train = self.data[self.val_index[self.val_pos: self.val_pos + self.batch_size]][:, 0:-1]\n",
    "        label = self.data[self.val_index[self.val_pos: self.val_pos + self.batch_size]][:, 1:, 0:11]\n",
    "        self.val_pos += self.batch_size\n",
    "\n",
    "        return train, abnormal_detection(label)"
   ]
  },
  {
   "cell_type": "code",
   "execution_count": 5,
   "metadata": {
    "collapsed": true
   },
   "outputs": [],
   "source": [
    "a = Data(10)\n",
    "arr = a.odata.reshape(-1, 44)"
   ]
  },
  {
   "cell_type": "code",
   "execution_count": 6,
   "metadata": {
    "collapsed": true
   },
   "outputs": [],
   "source": [
    "min = np.min(arr, axis=0)\n",
    "max = np.max(arr, axis=0)\n",
    "mean = np.mean(arr, axis=0)\n",
    "median = np.median(arr, axis=0)\n",
    "std = np.std(arr, axis=0)"
   ]
  },
  {
   "cell_type": "code",
   "execution_count": 31,
   "metadata": {
    "collapsed": true
   },
   "outputs": [],
   "source": [
    "threshold_low = np.percentile(arr, 5, axis=0)\n",
    "threshold_high = np.percentile(arr, 95, axis=0)"
   ]
  },
  {
   "cell_type": "markdown",
   "metadata": {},
   "source": [
    "### The threshold P(population < threshold1) = 0.1"
   ]
  },
  {
   "cell_type": "code",
   "execution_count": 68,
   "metadata": {},
   "outputs": [
    {
     "data": {
      "text/plain": [
       "array([2.06666667, 2.03333333, 2.03333333, 2.06666667, 2.03333333,\n",
       "       2.06666667, 2.06666667, 2.06666667, 2.03333333, 2.06666667,\n",
       "       2.03333333])"
      ]
     },
     "execution_count": 68,
     "metadata": {},
     "output_type": "execute_result"
    }
   ],
   "source": [
    "threshold_low[:11]"
   ]
  },
  {
   "cell_type": "markdown",
   "metadata": {},
   "source": [
    "### The threshold P(population > threshold2) = 0.1"
   ]
  },
  {
   "cell_type": "code",
   "execution_count": 69,
   "metadata": {},
   "outputs": [
    {
     "data": {
      "text/plain": [
       "array([56.78166667, 58.24833333, 57.47833333, 56.88166667, 56.64833333,\n",
       "       57.23333333, 57.31166667, 56.67833333, 56.26      , 57.705     ,\n",
       "       57.04833333])"
      ]
     },
     "execution_count": 69,
     "metadata": {},
     "output_type": "execute_result"
    }
   ],
   "source": [
    "threshold_high[:11]"
   ]
  },
  {
   "cell_type": "code",
   "execution_count": 70,
   "metadata": {
    "collapsed": true
   },
   "outputs": [],
   "source": [
    "def abnormal_detection( array, threshold_low=threshold_low, threshold_high=threshold_high):\n",
    "    array[array > threshold_high[:11]] = 1e10\n",
    "    array[array < threshold_low[:11]] = 1e9\n",
    "    array[array < 1e9] = 1.0\n",
    "    array[array == 1e10] = 2.0\n",
    "    array[array == 1e9] = 0.0\n",
    "    \n",
    "    return array"
   ]
  },
  {
   "cell_type": "code",
   "execution_count": 71,
   "metadata": {
    "collapsed": true
   },
   "outputs": [],
   "source": [
    "num_input = 44\n",
    "num_time_step = 6\n",
    "# num_neuron_per_layer = 256\n",
    "num_neuron_per_layer = 512\n",
    "num_layers = 1\n",
    "num_output = 11\n",
    "learning_rate = 0.001\n",
    "nepoches = 150\n",
    "\n",
    "tf.reset_default_graph()\n",
    "X = tf.placeholder(dtype=tf.float32, shape=[None, num_time_step, num_input])\n",
    "y = tf.placeholder(dtype=tf.float32, shape=[None, num_time_step, num_output])\n",
    "\n",
    "cell = tf.contrib.rnn.BasicLSTMCell(num_units=num_neuron_per_layer, activation=tf.nn.relu)\n",
    "cell = tf.contrib.rnn.AttentionCellWrapper(cell, attn_length=6)\n",
    "cell = tf.contrib.rnn.OutputProjectionWrapper(cell, num_output)\n",
    "\n",
    "outputs, states = tf.nn.dynamic_rnn(cell, X, dtype=tf.float32)\n",
    "\n",
    "loss = tf.reduce_mean(tf.square(y - outputs))\n",
    "\n",
    "optimizer = tf.train.AdamOptimizer(learning_rate=learning_rate)\n",
    "\n",
    "train = optimizer.minimize(loss)\n",
    "init = tf.global_variables_initializer()\n",
    "saver = tf.train.Saver()\n",
    "a.reset_index()"
   ]
  },
  {
   "cell_type": "code",
   "execution_count": 72,
   "metadata": {
    "collapsed": true
   },
   "outputs": [],
   "source": [
    "pred_10_2 = combine(np.load(\"./data/m4/2018-10-02_4.npy\").reshape(-1, 286, 44))\n",
    "pred_10_8 = combine(np.load(\"./data/m4/2018-10-08_4.npy\").reshape(-1, 286, 44))\n",
    "pred_10_11 = combine(np.load(\"./data/m4/2018-10-11_4.npy\").reshape(-1, 286, 44))\n",
    "pred_all = np.array([pred_10_2, pred_10_8, pred_10_11])"
   ]
  },
  {
   "cell_type": "code",
   "execution_count": 63,
   "metadata": {},
   "outputs": [
    {
     "name": "stdout",
     "output_type": "stream",
     "text": [
      "INFO:tensorflow:Restoring parameters from ./RNN_MODEL_10_att_128130\n"
     ]
    }
   ],
   "source": [
    "result = []\n",
    "saver = tf.train.Saver()\n",
    "with tf.Session() as sess:\n",
    "    saver.restore(sess, \"./RNN_MODEL_10_att_128130\")\n",
    "    for pred in pred_all:\n",
    "        pos = 18\n",
    "        tmp = []\n",
    "        pred = pred.reshape(-1, 44)\n",
    "        for i in range(25):\n",
    "            x_batch = pred[pos:pos + 6].reshape(1, num_time_step, 44)\n",
    "            y_pred = sess.run(outputs, feed_dict={X:x_batch})\n",
    "            y_pred = abnormal_detection(y_pred)\n",
    "            tmp.append(y_pred[0][5])\n",
    "            pos += 1\n",
    "        result.append(np.array(tmp))\n",
    "    np.save(\"result_10min_abnormal.npy\", np.array(result))"
   ]
  },
  {
   "cell_type": "code",
   "execution_count": 73,
   "metadata": {
    "collapsed": true
   },
   "outputs": [],
   "source": [
    "def get_abnotmal_rate(test, pred, line):\n",
    "    a = test.shape[0]\n",
    "    b = test.shape[1]\n",
    "    c = test.shape[2]\n",
    "    count = 0\n",
    "    match = 0\n",
    "    for i in range(a):\n",
    "        for j in range(b):\n",
    "            for k in range(c):\n",
    "                if test[i][j][k] == line:\n",
    "                    count += 1\n",
    "                    if pred[i][j][k] == line:\n",
    "                        match += 1\n",
    "    return match / count"
   ]
  },
  {
   "cell_type": "code",
   "execution_count": 74,
   "metadata": {
    "collapsed": true
   },
   "outputs": [],
   "source": [
    "pred_10_2 = combine(np.load(\"./data/m4/2018-10-02_4.npy\").reshape(-1, 286, 44))\n",
    "pred_10_8 = combine(np.load(\"./data/m4/2018-10-08_4.npy\").reshape(-1, 286, 44))\n",
    "pred_10_11 = combine(np.load(\"./data/m4/2018-10-11_4.npy\").reshape(-1, 286, 44))\n",
    "pred_all = np.array([pred_10_2, pred_10_8, pred_10_11])\n",
    "abnormal_real = abnormal_detection(pred_all[:, 0, 24:,:11])"
   ]
  },
  {
   "cell_type": "code",
   "execution_count": 75,
   "metadata": {},
   "outputs": [
    {
     "data": {
      "text/plain": [
       "0.7291666666666666"
      ]
     },
     "execution_count": 75,
     "metadata": {},
     "output_type": "execute_result"
    }
   ],
   "source": [
    "abnormal_test = np.load(\"./result_10min_abnormal.npy\")[:, :24]\n",
    "get_abnotmal_rate(abnormal_real, abnormal_test, 2)"
   ]
  },
  {
   "cell_type": "code",
   "execution_count": 76,
   "metadata": {},
   "outputs": [
    {
     "data": {
      "text/plain": [
       "array([[1., 1., 1., 1., 1., 1., 1., 1., 1., 1., 2.],\n",
       "       [1., 1., 1., 1., 1., 1., 1., 1., 1., 1., 1.],\n",
       "       [1., 1., 1., 1., 1., 1., 1., 1., 1., 1., 1.],\n",
       "       [1., 1., 1., 1., 1., 1., 1., 1., 1., 1., 1.],\n",
       "       [1., 1., 1., 1., 1., 1., 1., 1., 1., 1., 1.],\n",
       "       [2., 2., 2., 2., 2., 2., 2., 2., 2., 2., 2.],\n",
       "       [1., 1., 1., 1., 1., 1., 1., 1., 1., 1., 1.],\n",
       "       [1., 1., 1., 1., 1., 1., 1., 1., 1., 1., 1.],\n",
       "       [1., 1., 1., 1., 1., 1., 1., 1., 1., 1., 1.],\n",
       "       [1., 1., 1., 1., 1., 1., 1., 1., 1., 1., 1.],\n",
       "       [1., 1., 1., 1., 1., 1., 1., 1., 1., 1., 1.],\n",
       "       [1., 1., 1., 1., 1., 1., 1., 1., 1., 1., 1.],\n",
       "       [1., 1., 1., 1., 1., 1., 1., 1., 1., 1., 1.],\n",
       "       [1., 1., 1., 1., 1., 1., 1., 1., 1., 1., 1.],\n",
       "       [1., 1., 1., 1., 1., 1., 1., 1., 1., 1., 1.],\n",
       "       [1., 1., 1., 1., 1., 1., 1., 1., 1., 1., 1.],\n",
       "       [1., 1., 1., 1., 1., 1., 1., 1., 1., 1., 1.],\n",
       "       [1., 1., 1., 1., 1., 1., 1., 1., 1., 1., 1.],\n",
       "       [1., 1., 1., 1., 1., 1., 1., 1., 1., 1., 1.],\n",
       "       [1., 1., 1., 1., 1., 1., 1., 1., 1., 1., 1.],\n",
       "       [1., 1., 1., 1., 1., 1., 1., 1., 1., 1., 1.],\n",
       "       [1., 1., 1., 1., 1., 1., 1., 1., 1., 1., 1.],\n",
       "       [1., 1., 1., 1., 1., 1., 1., 1., 1., 2., 2.],\n",
       "       [1., 1., 1., 1., 1., 1., 1., 1., 1., 1., 1.]])"
      ]
     },
     "execution_count": 76,
     "metadata": {},
     "output_type": "execute_result"
    }
   ],
   "source": [
    "abnormal_real[2]"
   ]
  },
  {
   "cell_type": "code",
   "execution_count": 77,
   "metadata": {},
   "outputs": [
    {
     "data": {
      "text/plain": [
       "array([[1., 1., 1., 1., 1., 1., 1., 1., 1., 1., 1.],\n",
       "       [1., 1., 1., 1., 1., 1., 1., 1., 1., 1., 1.],\n",
       "       [1., 1., 1., 1., 1., 1., 1., 1., 1., 1., 1.],\n",
       "       [1., 1., 1., 1., 1., 1., 1., 1., 1., 1., 1.],\n",
       "       [1., 1., 1., 1., 1., 1., 1., 1., 1., 1., 1.],\n",
       "       [2., 2., 2., 2., 2., 2., 2., 2., 2., 2., 2.],\n",
       "       [1., 1., 1., 1., 1., 1., 1., 1., 1., 1., 1.],\n",
       "       [1., 1., 1., 1., 1., 1., 1., 1., 1., 1., 1.],\n",
       "       [1., 1., 1., 1., 1., 1., 1., 1., 1., 1., 1.],\n",
       "       [1., 1., 1., 1., 1., 1., 1., 1., 1., 1., 1.],\n",
       "       [1., 1., 1., 1., 1., 1., 1., 1., 1., 1., 1.],\n",
       "       [1., 1., 1., 1., 1., 1., 1., 1., 1., 1., 1.],\n",
       "       [1., 1., 1., 1., 1., 1., 1., 1., 1., 1., 1.],\n",
       "       [1., 1., 1., 1., 1., 1., 1., 1., 1., 1., 1.],\n",
       "       [1., 1., 1., 1., 1., 1., 1., 1., 1., 1., 1.],\n",
       "       [1., 1., 1., 1., 1., 1., 1., 1., 1., 1., 1.],\n",
       "       [1., 1., 1., 1., 1., 1., 1., 1., 1., 1., 1.],\n",
       "       [1., 1., 1., 1., 1., 1., 1., 1., 1., 1., 1.],\n",
       "       [1., 1., 1., 1., 1., 1., 1., 1., 1., 1., 1.],\n",
       "       [1., 1., 1., 1., 1., 1., 1., 1., 1., 1., 1.],\n",
       "       [1., 1., 1., 1., 1., 1., 1., 1., 1., 1., 1.],\n",
       "       [1., 1., 1., 1., 1., 1., 1., 1., 1., 1., 1.],\n",
       "       [1., 1., 1., 1., 1., 1., 1., 1., 1., 1., 1.],\n",
       "       [1., 1., 1., 1., 1., 1., 1., 1., 1., 1., 1.]], dtype=float32)"
      ]
     },
     "execution_count": 77,
     "metadata": {},
     "output_type": "execute_result"
    }
   ],
   "source": [
    "abnormal_test[2]"
   ]
  },
  {
   "cell_type": "code",
   "execution_count": 78,
   "metadata": {},
   "outputs": [
    {
     "data": {
      "text/plain": [
       "0.3125"
      ]
     },
     "execution_count": 78,
     "metadata": {},
     "output_type": "execute_result"
    }
   ],
   "source": [
    "result_VAR = np.load(\"./result_VAR.npy\")\n",
    "get_abnotmal_rate(abnormal_real, abnormal_detection(result_VAR[:, :24, :11]), 2)"
   ]
  },
  {
   "cell_type": "code",
   "execution_count": 79,
   "metadata": {},
   "outputs": [
    {
     "data": {
      "text/plain": [
       "0.46153846153846156"
      ]
     },
     "execution_count": 79,
     "metadata": {},
     "output_type": "execute_result"
    }
   ],
   "source": [
    "abnormal_test = np.load(\"./result_10min_abnormal.npy\")[:, :24]\n",
    "get_abnotmal_rate(abnormal_real, abnormal_test, 0)"
   ]
  },
  {
   "cell_type": "code",
   "execution_count": 80,
   "metadata": {},
   "outputs": [
    {
     "data": {
      "text/plain": [
       "0.15384615384615385"
      ]
     },
     "execution_count": 80,
     "metadata": {},
     "output_type": "execute_result"
    }
   ],
   "source": [
    "result_VAR = np.load(\"./result_VAR.npy\")\n",
    "get_abnotmal_rate(abnormal_real, abnormal_detection(result_VAR[:, :24, :11]), 0)"
   ]
  },
  {
   "cell_type": "code",
   "execution_count": 81,
   "metadata": {
    "collapsed": true
   },
   "outputs": [],
   "source": [
    "input_date = '2018-11-05'\n",
    "label = 'demo3'\n",
    "abnormal_test = abnormal_test[0]\n",
    "abnormal_real = abnormal_real[0]\n",
    "f = open('./' + input_date + '_node_' + label + '.csv', 'w')\n",
    "f.write('Id,Label,timeset,Thresh\\n')\n",
    "for i in range(abnormal_test.shape[1]):\n",
    "    f.write(str(node[i]) + ',' + str(node[i]) + ',\"<[')\n",
    "    for j in range(0, abnormal_test.shape[0] - 1):\n",
    "        f.write(str(j) + ', ')\n",
    "    f.write(str(abnormal_test.shape[0]))\n",
    "    f.write(']>\",\"<')\n",
    "    for j in range(0, abnormal_test.shape[0] - 1):\n",
    "        f.write('[')\n",
    "        f.write(str(j))\n",
    "        f.write(', ')\n",
    "        f.write(str(abnormal_test[j][i]))\n",
    "        f.write(']; ')\n",
    "    f.write('[')\n",
    "    f.write(str(abnormal_test.shape[0]))\n",
    "    f.write(', ')\n",
    "    f.write(str(abnormal_test[-1][i]))\n",
    "    f.write(']>\"' + '\\n')\n",
    "    \n",
    "for i in range(abnormal_real.shape[1]):\n",
    "    f.write(str(node[i]) + 'r' + ',' + str(node[i]) + 'r' + ',\"<[')\n",
    "    for j in range(0, abnormal_real.shape[0] - 1):\n",
    "        f.write(str(j) + ', ')\n",
    "    f.write(str(abnormal_test.shape[0]))\n",
    "    f.write(']>\",\"<')\n",
    "    for j in range(0, abnormal_real.shape[0] - 1):\n",
    "        f.write('[')\n",
    "        f.write(str(j))\n",
    "        f.write(', ')\n",
    "        f.write(str(abnormal_real[j][i]))\n",
    "        f.write(']; ')\n",
    "    f.write('[')\n",
    "    f.write(str(abnormal_real.shape[0]))\n",
    "    f.write(', ')\n",
    "    f.write(str(abnormal_real[-1][i]))\n",
    "    f.write(']>\"' + '\\n')\n",
    "\n",
    "f.close()"
   ]
  },
  {
   "cell_type": "code",
   "execution_count": 265,
   "metadata": {},
   "outputs": [
    {
     "data": {
      "text/plain": [
       "(3, 24, 11)"
      ]
     },
     "execution_count": 265,
     "metadata": {},
     "output_type": "execute_result"
    }
   ],
   "source": [
    "abnormal_test.shape"
   ]
  },
  {
   "cell_type": "code",
   "execution_count": 257,
   "metadata": {
    "collapsed": true
   },
   "outputs": [],
   "source": [
    "def node_list_to_csv(node_list, input_date, path, label):\n",
    "    \"\"\"\n",
    "        Write the node list to Gephi csv format dynamic graph\n",
    "        Args:\n",
    "            node_list: input node_list which is a list of dict which contains the\n",
    "                       attributes of each at certain time\n",
    "            input_date: the date of the data processing\n",
    "            path: where the csv files stores\n",
    "        Return:\n",
    "    \"\"\"\n",
    "    id, time_stamp, attributes = graph_to_csv_formter(node_list);\n",
    "    print(time_stamp)\n",
    "    loc = path\n",
    "    f = open(loc + input_date + '_node_' + label + '.csv', 'w')\n",
    "    f.write('Id,Label,timeset,Population,color\\n')\n",
    "    for key in id.keys():\n",
    "        color_list = key.split('_')\n",
    "        f.write(str(key) + ',' + str(key) + ',\"<[')\n",
    "        length = len(time_stamp[id[key]])\n",
    "        # write time stamp set\n",
    "        for i in range(0, length - 1):\n",
    "            f.write(str(time_stamp[id[key]][i]) + ', ')\n",
    "        f.write(str(time_stamp[id[key]][length - 1]))\n",
    "        f.write(']>\",\"<')\n",
    "        # write node attributes set\n",
    "        for i in range(0, length - 1):\n",
    "            f.write('[')\n",
    "            f.write(str(time_stamp[id[key]][i]))\n",
    "            f.write(', ')\n",
    "            f.write(str(attributes[id[key]][i]))\n",
    "            f.write(']; ')\n",
    "        f.write('[')\n",
    "        f.write(str(time_stamp[id[key]][length - 1]))\n",
    "        f.write(', ')\n",
    "        f.write(str(attributes[id[key]][length - 1]))\n",
    "        if (len(color_list) > 1):\n",
    "            f.write(']>\",' + str(color_list[1]) + '\\n')\n",
    "    f.close()"
   ]
  }
 ],
 "metadata": {
  "kernelspec": {
   "display_name": "Python 3",
   "language": "python",
   "name": "python3"
  },
  "language_info": {
   "codemirror_mode": {
    "name": "ipython",
    "version": 3
   },
   "file_extension": ".py",
   "mimetype": "text/x-python",
   "name": "python",
   "nbconvert_exporter": "python",
   "pygments_lexer": "ipython3",
   "version": "3.5.4"
  }
 },
 "nbformat": 4,
 "nbformat_minor": 2
}
