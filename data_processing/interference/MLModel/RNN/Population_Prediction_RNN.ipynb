{
 "cells": [
  {
   "cell_type": "code",
   "execution_count": 2,
   "metadata": {
    "collapsed": true
   },
   "outputs": [],
   "source": [
    "import tensorflow as tf\n",
    "import numpy as np\n",
    "import datetime\n",
    "from sklearn.model_selection import train_test_split\n",
    "from sklearn.metrics import r2_score"
   ]
  },
  {
   "cell_type": "markdown",
   "metadata": {},
   "source": [
    "## Build a one hidden layer Recurrent Neural Network"
   ]
  },
  {
   "cell_type": "markdown",
   "metadata": {},
   "source": [
    "### Setup"
   ]
  },
  {
   "cell_type": "code",
   "execution_count": 3,
   "metadata": {
    "collapsed": true
   },
   "outputs": [],
   "source": [
    "node = [1,2,3,4,5,6,7,8,9,12,13]\n",
    "start = datetime.datetime.strptime(\"2018-08-27\", \"%Y-%m-%d\")\n",
    "end = datetime.datetime.strptime(\"2018-9-27\", \"%Y-%m-%d\")\n",
    "date = [start + datetime.timedelta(days=x) for x in range(0, (end-start).days)]"
   ]
  },
  {
   "cell_type": "markdown",
   "metadata": {},
   "source": [
    "## Sample Data"
   ]
  },
  {
   "cell_type": "markdown",
   "metadata": {},
   "source": [
    "### Data Example (Mean, Median, Max, Min) 1 hr -> 0.5 hr"
   ]
  },
  {
   "cell_type": "markdown",
   "metadata": {},
   "source": [
    "### Helper Function"
   ]
  },
  {
   "cell_type": "code",
   "execution_count": 4,
   "metadata": {
    "collapsed": true
   },
   "outputs": [],
   "source": [
    "def combine(data, slots=6):\n",
    "    result = []\n",
    "    for arr in data:\n",
    "        result.append(calculate(arr, slots))\n",
    "\n",
    "    return np.array(result)\n",
    "\n",
    "def calculate(arr, slots):\n",
    "    length = arr.shape[0]\n",
    "    result = []\n",
    "    for i in range(0, length, slots):\n",
    "        tmp = arr[i:i + 6]\n",
    "        tmp_mean = np.mean(tmp[:, 0:11], axis=0)\n",
    "        tmp_median = np.median(tmp[:, 11:22], axis=0)\n",
    "        tmp_max = np.max(tmp[:, 22:33], axis=0)\n",
    "        tmp_min = np.min(tmp[:, 33:44], axis=0)\n",
    "        tmp = ans = np.hstack((tmp_mean, tmp_median, tmp_max, tmp_min))\n",
    "        result.append(tmp)\n",
    "\n",
    "    return np.array(result)"
   ]
  },
  {
   "cell_type": "markdown",
   "metadata": {},
   "source": [
    "### Data Loader (Cross Validation)"
   ]
  },
  {
   "cell_type": "code",
   "execution_count": 5,
   "metadata": {
    "collapsed": true
   },
   "outputs": [],
   "source": [
    "def concatenate(date_list, node):\n",
    "    data = []\n",
    "    for date in date_list:\n",
    "        if date.weekday() >= 5:\n",
    "            continue\n",
    "        tmp = np.load(\"./data/m4/\" + str(date)[:10] + '_4.npy')\n",
    "        if tmp.shape[0] < 286:\n",
    "            continue\n",
    "        data.append(tmp)\n",
    "    return np.array(data)\n",
    "\n",
    "class Data:\n",
    "\n",
    "    def __init__(self, time, batch_size = 32):\n",
    "        self.odata = concatenate(date_list=date, node=node)\n",
    "        self.data = None\n",
    "        self.data_init(miniute=5, time=10)\n",
    "        self.data = combine(self.data)\n",
    "\n",
    "        self.length = len(self.data)\n",
    "\n",
    "        self.train_len = int(self.length * 0.8)\n",
    "        self.val_len = int(self.length - self.train_len)\n",
    "\n",
    "        self.index = None\n",
    "        self.train_index = None\n",
    "        self.train_pos = 0\n",
    "        self.val_index = None\n",
    "        self.val_pos = 0\n",
    "        self.batch_size = batch_size\n",
    "\n",
    "    def data_init(self, miniute, time):\n",
    "        data = self.odata\n",
    "        result = []\n",
    "        start = int(9 * 60 / miniute)\n",
    "        for i in range(start, 286 - 42, int(time / miniute)):\n",
    "            result.append(data[:, i:i + 42, :])\n",
    "        self.data =  np.array(result).reshape(-1, 42, 44)\n",
    "            \n",
    "    def reset_index(self):\n",
    "        self.index = np.arange(self.length)\n",
    "        \n",
    "    def shuffle_index(self):\n",
    "        self.train_pos = 0\n",
    "        self.val_pos = 0\n",
    "        np.random.shuffle(self.index)\n",
    "        self.train_index = self.index[:self.train_len]\n",
    "        self.val_index = self.index[self.train_len:]\n",
    "\n",
    "    def get_train(self):\n",
    "        train = self.data[self.train_index[self.train_pos:  self.train_pos + self.batch_size]][:, 0:-1]\n",
    "        label = self.data[self.train_index[self.train_pos: self.train_pos + self.batch_size]][:, 1:, 0:11]\n",
    "        self.train_pos += self.batch_size\n",
    "        \n",
    "        return train, label\n",
    "\n",
    "    def get_val(self):\n",
    "        train = self.data[self.val_index[self.val_pos: self.val_pos + self.batch_size]][:, 0:-1]\n",
    "        label = self.data[self.val_index[self.val_pos: self.val_pos + self.batch_size]][:, 1:, 0:11]\n",
    "        self.val_pos += self.batch_size\n",
    "\n",
    "        return train, label"
   ]
  },
  {
   "cell_type": "code",
   "execution_count": 6,
   "metadata": {
    "collapsed": true
   },
   "outputs": [],
   "source": [
    "a = Data(10)"
   ]
  },
  {
   "cell_type": "markdown",
   "metadata": {},
   "source": [
    "### RNN with 6 time step. Xt (batch_size, 11), h is the prediction at t"
   ]
  },
  {
   "cell_type": "code",
   "execution_count": 10,
   "metadata": {
    "scrolled": true
   },
   "outputs": [
    {
     "name": "stdout",
     "output_type": "stream",
     "text": [
      "0 \tMSE: 46.19135\n",
      "10 \tMSE: 27.552986\n",
      "20 \tMSE: 21.164125\n",
      "30 \tMSE: 13.186788\n",
      "40 \tMSE: 16.108063\n",
      "50 \tMSE: 9.81134\n",
      "60 \tMSE: 11.000569\n",
      "70 \tMSE: 7.908967\n",
      "80 \tMSE: 9.9406185\n",
      "90 \tMSE: 5.7461085\n",
      "100 \tMSE: 6.6991568\n",
      "110 \tMSE: 7.610714\n",
      "120 \tMSE: 5.8232465\n",
      "130 \tMSE: 4.3707285\n"
     ]
    }
   ],
   "source": [
    "num_input = 44\n",
    "num_time_step = 6\n",
    "# num_neuron_per_layer = 256\n",
    "num_neuron_per_layer = 512\n",
    "num_layers = 1\n",
    "num_output = 11\n",
    "learning_rate = 0.001\n",
    "nepoches = 150\n",
    "\n",
    "tf.reset_default_graph()\n",
    "X = tf.placeholder(dtype=tf.float32, shape=[None, num_time_step, num_input])\n",
    "y = tf.placeholder(dtype=tf.float32, shape=[None, num_time_step, num_output])\n",
    "\n",
    "cell = tf.contrib.rnn.BasicLSTMCell(num_units=num_neuron_per_layer, activation=tf.nn.relu)\n",
    "cell = tf.contrib.rnn.AttentionCellWrapper(cell, attn_length=6)\n",
    "cell = tf.contrib.rnn.OutputProjectionWrapper(cell, num_output)\n",
    "\n",
    "outputs, states = tf.nn.dynamic_rnn(cell, X, dtype=tf.float32)\n",
    "\n",
    "loss = tf.reduce_mean(tf.square(y - outputs))\n",
    "\n",
    "optimizer = tf.train.AdamOptimizer(learning_rate=learning_rate)\n",
    "\n",
    "train = optimizer.minimize(loss)\n",
    "init = tf.global_variables_initializer()\n",
    "saver = tf.train.Saver()\n",
    "a.reset_index()\n",
    "\n",
    "with tf.Session() as sess:\n",
    "    sess.run(init)\n",
    "    f = open(\"log_10min_att_128.txt\", \"w\")\n",
    "    for epoch in range(nepoches):\n",
    "        iteration = a.train_len // a.batch_size\n",
    "        a.shuffle_index()\n",
    "        for i in range(iteration):\n",
    "            x_batch, y_batch = a.get_train()\n",
    "            sess.run(train, feed_dict={X:x_batch, y:y_batch})\n",
    "        \n",
    "        if epoch % 10 == 0:\n",
    "            x_batch, y_batch = a.get_val()\n",
    "            mse = loss.eval(feed_dict={X:x_batch, y:y_batch})\n",
    "            print (epoch, \"\\tMSE:\", mse)\n",
    "            f.write(str(epoch) + \"\\tMSE:\" + str(mse) + \"\\n\")\n",
    "            \n",
    "            if mse < 5:\n",
    "                saver.save(sess, \"./RNN_MODEL_10_att_128\" + str(epoch))\n",
    "                f.close()\n",
    "                break\n",
    "\n",
    "#     f.close()\n",
    "#     saver.save(sess, \"./RNN_MODEL_10_atten_final\" )"
   ]
  },
  {
   "cell_type": "code",
   "execution_count": null,
   "metadata": {
    "collapsed": true
   },
   "outputs": [],
   "source": []
  }
 ],
 "metadata": {
  "kernelspec": {
   "display_name": "Python 3",
   "language": "python",
   "name": "python3"
  },
  "language_info": {
   "codemirror_mode": {
    "name": "ipython",
    "version": 3
   },
   "file_extension": ".py",
   "mimetype": "text/x-python",
   "name": "python",
   "nbconvert_exporter": "python",
   "pygments_lexer": "ipython3",
   "version": "3.5.4"
  }
 },
 "nbformat": 4,
 "nbformat_minor": 2
}
