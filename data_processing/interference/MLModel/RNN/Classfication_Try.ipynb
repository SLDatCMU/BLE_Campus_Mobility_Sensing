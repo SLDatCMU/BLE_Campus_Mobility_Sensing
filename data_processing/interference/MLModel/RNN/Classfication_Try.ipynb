{
 "cells": [
  {
   "cell_type": "code",
   "execution_count": 56,
   "metadata": {
    "collapsed": true
   },
   "outputs": [],
   "source": [
    "import tensorflow as tf\n",
    "import numpy as np\n",
    "import datetime\n",
    "from copy import deepcopy\n",
    "from sklearn.model_selection import train_test_split"
   ]
  },
  {
   "cell_type": "code",
   "execution_count": 2,
   "metadata": {
    "collapsed": true
   },
   "outputs": [],
   "source": [
    "node = [1,2,3,4,5,6,7,8,9,12,13]\n",
    "start = datetime.datetime.strptime(\"2018-08-27\", \"%Y-%m-%d\")\n",
    "end = datetime.datetime.strptime(\"2018-9-27\", \"%Y-%m-%d\")\n",
    "date = [start + datetime.timedelta(days=x) for x in range(0, (end-start).days)]"
   ]
  },
  {
   "cell_type": "code",
   "execution_count": 3,
   "metadata": {
    "collapsed": true
   },
   "outputs": [],
   "source": [
    "def combine(data, slots=6):\n",
    "    result = []\n",
    "    for arr in data:\n",
    "        result.append(calculate(arr, slots))\n",
    "\n",
    "    return np.array(result)\n",
    "\n",
    "def calculate(arr, slots):\n",
    "    length = arr.shape[0]\n",
    "    result = []\n",
    "    for i in range(0, length, slots):\n",
    "        tmp = arr[i:i + 6]\n",
    "        tmp_mean = np.mean(tmp[:, 0:11], axis=0)\n",
    "        tmp_median = np.median(tmp[:, 11:22], axis=0)\n",
    "        tmp_max = np.max(tmp[:, 22:33], axis=0)\n",
    "        tmp_min = np.min(tmp[:, 33:44], axis=0)\n",
    "        tmp = ans = np.hstack((tmp_mean, tmp_median, tmp_max, tmp_min))\n",
    "        result.append(tmp)\n",
    "\n",
    "    return np.array(result)"
   ]
  },
  {
   "cell_type": "code",
   "execution_count": 4,
   "metadata": {
    "collapsed": true
   },
   "outputs": [],
   "source": [
    "def concatenate(date_list, node):\n",
    "    data = []\n",
    "    for date in date_list:\n",
    "        if date.weekday() >= 5:\n",
    "            continue\n",
    "        tmp = np.load(\"./data/m4/\" + str(date)[:10] + '_4.npy')\n",
    "        if tmp.shape[0] < 286:\n",
    "            continue\n",
    "        data.append(tmp)\n",
    "    return np.array(data)\n",
    "\n",
    "class Data:\n",
    "\n",
    "    def __init__(self, time, batch_size = 32):\n",
    "        self.odata = concatenate(date_list=date, node=node)\n",
    "        self.data = None\n",
    "        self.data_init(miniute=5, time=10)\n",
    "        self.data = combine(self.data)\n",
    "\n",
    "        self.length = len(self.data)\n",
    "\n",
    "        self.train_len = int(self.length * 0.8)\n",
    "        self.val_len = int(self.length - self.train_len)\n",
    "\n",
    "        self.index = None\n",
    "        self.train_index = None\n",
    "        self.train_pos = 0\n",
    "        self.val_index = None\n",
    "        self.val_pos = 0\n",
    "        self.batch_size = batch_size\n",
    "\n",
    "    def data_init(self, miniute, time):\n",
    "        data = self.odata\n",
    "        result = []\n",
    "        start = int(9 * 60 / miniute)\n",
    "        for i in range(start, 286 - 42, int(time / miniute)):\n",
    "            result.append(data[:, i:i + 42, :])\n",
    "        self.data =  np.array(result).reshape(-1, 42, 44)\n",
    "            \n",
    "    def reset_index(self):\n",
    "        self.index = np.arange(self.length)\n",
    "        \n",
    "    def shuffle_index(self):\n",
    "        self.train_pos = 0\n",
    "        self.val_pos = 0\n",
    "        np.random.shuffle(self.index)\n",
    "        self.train_index = self.index[:self.train_len]\n",
    "        self.val_index = self.index[self.train_len:]\n",
    "\n",
    "    def get_train(self):\n",
    "        train = self.data[self.train_index[self.train_pos:  self.train_pos + self.batch_size]][:, 0:-1]\n",
    "        label = self.data[self.train_index[self.train_pos: self.train_pos + self.batch_size]][:, 1:, 0:11]\n",
    "        self.train_pos += self.batch_size\n",
    "        \n",
    "        return train, abnormal_detection(label)\n",
    "\n",
    "    def get_val(self):\n",
    "        train = self.data[self.val_index[self.val_pos: self.val_pos + self.batch_size]][:, 0:-1]\n",
    "        label = self.data[self.val_index[self.val_pos: self.val_pos + self.batch_size]][:, 1:, 0:11]\n",
    "        self.val_pos += self.batch_size\n",
    "\n",
    "        return train, abnormal_detection(label)"
   ]
  },
  {
   "cell_type": "code",
   "execution_count": 71,
   "metadata": {
    "collapsed": true
   },
   "outputs": [],
   "source": [
    "a = Data(10)"
   ]
  },
  {
   "cell_type": "code",
   "execution_count": 72,
   "metadata": {},
   "outputs": [],
   "source": [
    "tmp = a.odata"
   ]
  },
  {
   "cell_type": "code",
   "execution_count": 74,
   "metadata": {},
   "outputs": [],
   "source": [
    "tmp = tmp.reshape(-1, 44)"
   ]
  },
  {
   "cell_type": "code",
   "execution_count": 75,
   "metadata": {},
   "outputs": [],
   "source": [
    "threshold_5 = np.percentile(tmp, 5, axis=0).reshape(44, 1)\n",
    "threshold_15 = np.percentile(tmp, 15, axis=0).reshape(44, 1)\n",
    "threshold_35 = np.percentile(tmp, 35, axis=0).reshape(44, 1)\n",
    "threshold_55 = np.percentile(tmp, 55, axis=0).reshape(44, 1)\n",
    "threshold_75 = np.percentile(tmp, 75, axis=0).reshape(44, 1)\n",
    "threshold_85 = np.percentile(tmp, 85, axis=0).reshape(44, 1)\n",
    "threshold_95 = np.percentile(tmp, 95, axis=0).reshape(44, 1)\n",
    "threshold  = np.concatenate([threshold_5, threshold_15, threshold_35, threshold_55, \n",
    "                             threshold_75, threshold_85, threshold_95], axis=1)"
   ]
  },
  {
   "cell_type": "code",
   "execution_count": 76,
   "metadata": {},
   "outputs": [],
   "source": [
    "threshold = threshold.transpose(1, 0)"
   ]
  },
  {
   "cell_type": "code",
   "execution_count": 77,
   "metadata": {},
   "outputs": [],
   "source": [
    "def getClass(threshold, data):\n",
    "    result = deepcopy(data)\n",
    "    x = 0\n",
    "    for d in data:\n",
    "        for j in range(44):\n",
    "            for i in range(7):\n",
    "                if d[j] < threshold[i][j]:\n",
    "                    result[x][j] = i\n",
    "                    break\n",
    "        x += 1\n",
    "    return result"
   ]
  },
  {
   "cell_type": "code",
   "execution_count": 78,
   "metadata": {
    "collapsed": true
   },
   "outputs": [],
   "source": [
    "r = getClass(threshold, tmp)"
   ]
  },
  {
   "cell_type": "code",
   "execution_count": 82,
   "metadata": {},
   "outputs": [],
   "source": [
    "r = r.reshape(22, -1, 44)"
   ]
  },
  {
   "cell_type": "code",
   "execution_count": 87,
   "metadata": {},
   "outputs": [],
   "source": [
    "np.save(\"Classes.npy\", r)"
   ]
  }
 ],
 "metadata": {
  "kernelspec": {
   "display_name": "Python 3",
   "language": "python",
   "name": "python3"
  },
  "language_info": {
   "codemirror_mode": {
    "name": "ipython",
    "version": 3
   },
   "file_extension": ".py",
   "mimetype": "text/x-python",
   "name": "python",
   "nbconvert_exporter": "python",
   "pygments_lexer": "ipython3",
   "version": "3.5.4"
  }
 },
 "nbformat": 4,
 "nbformat_minor": 2
}
